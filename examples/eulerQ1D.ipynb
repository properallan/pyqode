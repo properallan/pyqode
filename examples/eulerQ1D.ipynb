{
 "cells": [
  {
   "cell_type": "code",
   "execution_count": 1,
   "metadata": {},
   "outputs": [
    {
     "name": "stdout",
     "output_type": "stream",
     "text": [
      "['./eulerQ1D', './sample_run/inputs/setupQ1D.txt']\n",
      "################################################################################\n",
      "                           -*- Q1D Euler Solver -*-\n",
      "Eigen 3.3.7\n",
      "Allan Moreira de Carvalho\n",
      "################################################################################\n",
      "                           -*- Setup Information -*-\n",
      "################################################################################\n",
      "# Domain x-coordinates at cell faces (no need for ghost cells)\n",
      "./sample_run/inputs/xn.txt\n",
      "# Area distributuin at cell faces (no need for ghost cells)\n",
      "./sample_run/inputs/Sn.txt\n",
      "# Inlet Total Pressure [Pa]\n",
      "1191000.0\n",
      "# Inlet Total Temperature [K]\n",
      "842.78\n",
      "# Inlet Mach Number\n",
      "0.01\n",
      "# Outlet Static Pressure [Pa]\n",
      "101000.0\n",
      "# Gas constant [J/kg/K]\n",
      "287.0\n",
      "# Specific heat ratio\n",
      "1.4\n",
      "# Maximum number of iterations \n",
      "50000\n",
      "# Interval to print iterations \n",
      "1000\n",
      "# CFL number \n",
      "0.15\n",
      "# Convergence criteria \n",
      "1e-06\n",
      "# Time integration scheme (Euler, RK4) \n",
      "RK4\n",
      "# Flux scheme (Basic, Roe, Split, SplitTVD, VanLeer, LaxFriedrichs, StegerWarming, AUSM) \n",
      "AUSM\n",
      "# Timestep type (Global, Local) \n",
      "Global\n",
      "# Form to be solved (Dimensional, Dimensionless) \n",
      "Dimensionless\n",
      "# Set output directory \n",
      "./sample_run/outputs/\n",
      "################################################################################\n",
      "                           -*- Start Solving -*-\n",
      "################################################################################\n",
      "\t \t \t     Maximum Residue\n",
      "Iteration \tMass\t\tMomentum\tEnergy\n",
      "1000\t\t6.50936e-05\t7.93054e-05\t0.000288601\n",
      "2000\t\t3.67401e-06\t7.87082e-06\t1.50616e-05\n",
      "3000\t\t1.27778e-06\t1.39066e-06\t4.60692e-06\n",
      "################################################################################\n",
      "                           -*- Saving Results -*-\n",
      "################################################################################\n",
      "runtime: 0.12292886999784969s\n"
     ]
    }
   ],
   "source": [
    "from eulerQ1D import sample_run, sod_shock\n",
    "\n",
    "sod = sample_run()\n",
    "#sod = sod_shock()"
   ]
  },
  {
   "cell_type": "code",
   "execution_count": 2,
   "metadata": {},
   "outputs": [
    {
     "data": {
      "text/plain": [
       "[<matplotlib.lines.Line2D at 0x7fbc320482b0>]"
      ]
     },
     "execution_count": 2,
     "metadata": {},
     "output_type": "execute_result"
    },
    {
     "data": {
      "image/png": "[encoded data removed]",
      "text/plain": [
       "<Figure size 640x480 with 1 Axes>"
      ]
     },
     "metadata": {},
     "output_type": "display_data"
    }
   ],
   "source": [
    "import matplotlib.pyplot as plt\n",
    "\n",
    "plt.plot(sod.X_COORDINATE, sod.PRESSURE)"
   ]
  },
  {
   "cell_type": "code",
   "execution_count": null,
   "metadata": {},
   "outputs": [],
   "source": []
  }
 ],
 "metadata": {
  "kernelspec": {
   "display_name": "Python 3.10.6 64-bit",
   "language": "python",
   "name": "python3"
  },
  "language_info": {
   "codemirror_mode": {
    "name": "ipython",
    "version": 3
   },
   "file_extension": ".py",
   "mimetype": "text/x-python",
   "name": "python",
   "nbconvert_exporter": "python",
   "pygments_lexer": "ipython3",
   "version": "3.10.6"
  },
  "orig_nbformat": 4,
  "vscode": {
   "interpreter": {
    "hash": "916dbcbb3f70747c44a77c7bcd40155683ae19c65e1c03b4aa3499c5328201f1"
   }
  }
 },
 "nbformat": 4,
 "nbformat_minor": 2
}
