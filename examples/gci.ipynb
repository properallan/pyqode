{
 "cells": [
  {
   "cell_type": "code",
   "execution_count": 2,
   "metadata": {},
   "outputs": [],
   "source": [
    "from pyGCS import GCI, GCS\n",
    "from IPython.display import Markdown, display\n"
   ]
  },
  {
   "cell_type": "code",
   "execution_count": 23,
   "metadata": {},
   "outputs": [
    {
     "data": {
      "text/markdown": [
       "Generated using pyGCS (Grid Convergence Study)\n",
       "- https://github.com/tomrobin-teschner/pyGCS\n",
       "- https://pypi.org/project/pygcs/\n",
       "\n",
       "Table 1: Grid convergence study over 3 grids. phi represents the {INSERT MEANING OF PHI HERE} and phi_extrapolated its extrapolated value. N_cells is the number of grid elements, r the refinement ration between two successive grids. GCI is the grid convergence index in percent and its asymptotic value is provided by GCI_asymptotic, where a value close to unity indicates a grid independent solution. The order achieved in the simulation is given by p.\n",
       "\n",
       "|        |  phi      |   N_cells   |  r  |  GCI  | GCI_asymptotic |  p   | phi_extrapolated |\n",
       "|--------|:---------:|:-----------:|:---:|:-----:|:--------------:|:----:|:----------------:|\n",
       "|        |           |             |     |       |                |      |                  |\n",
       "| Grid 1 | 1.030e+00 |        4500 | 1.3 | 7.48% |                |      |                  |\n",
       "| Grid 2 | 1.020e+00 |        2500 | 1.3 | 8.78% |      1.010     | 0.51 |     1.09e+00     |\n",
       "| Grid 3 | 1.010e+00 |        1500 | -   | -     |                |      |                  |\n",
       "|        |           |             |     |       |                |      |                  |"
      ],
      "text/plain": [
       "<IPython.core.display.Markdown object>"
      ]
     },
     "metadata": {},
     "output_type": "display_data"
    }
   ],
   "source": [
    "gcs = GCS(\n",
    "    dimension=2,\n",
    "    simulation_order=2,\n",
    "    volume=1.0,\n",
    "    #cells=[100*25,150*30,200*50],\n",
    "    cells=[75*20, 100*25, 150*30],\n",
    "    solution=[1.01,1.02,1.03]\n",
    ")\n",
    "gcs.print_table(output_type='markdown', output_path=f'./')\n",
    "display(Markdown(\"table.md\"))"
   ]
  },
  {
   "cell_type": "code",
   "execution_count": 24,
   "metadata": {},
   "outputs": [
    {
     "data": {
      "text/plain": [
       "[[1.3416407864998738, 1.2909944487358056]]"
      ]
     },
     "execution_count": 24,
     "metadata": {},
     "output_type": "execute_result"
    }
   ],
   "source": [
    "gcs.get('refinement_ratio')"
   ]
  },
  {
   "cell_type": "code",
   "execution_count": null,
   "metadata": {},
   "outputs": [],
   "source": []
  },
  {
   "cell_type": "code",
   "execution_count": null,
   "metadata": {},
   "outputs": [],
   "source": []
  }
 ],
 "metadata": {
  "kernelspec": {
   "display_name": "Python 3",
   "language": "python",
   "name": "python3"
  },
  "language_info": {
   "codemirror_mode": {
    "name": "ipython",
    "version": 3
   },
   "file_extension": ".py",
   "mimetype": "text/x-python",
   "name": "python",
   "nbconvert_exporter": "python",
   "pygments_lexer": "ipython3",
   "version": "3.10.12"
  }
 },
 "nbformat": 4,
 "nbformat_minor": 2
}
