{
 "cells": [
  {
   "cell_type": "code",
   "execution_count": 9,
   "metadata": {},
   "outputs": [
    {
     "name": "stdout",
     "output_type": "stream",
     "text": [
      "p0in: 45.1, yplus_max: 39.033424377441406\n",
      "p0in: 60.1, yplus_max: 44.133785247802734\n",
      "p0in: 75.0, yplus_max: 48.41642761230469\n",
      "p0in: 100.6, yplus_max: 54.66660690307617\n",
      "p0in: 150.4, yplus_max: 64.37327575683594\n",
      "p0in: 199.6, yplus_max: 72.10421752929688\n",
      "p0in: 250.2, yplus_max: 79.3686752319336\n"
     ]
    }
   ],
   "source": [
    "import pyvista as pv\n",
    "import numpy as np\n",
    "\n",
    "P0IN_PSI_LIST = [45.1, 60.1, 75.0, 100.6, 150.4, 199.6, 250.2]\n",
    "\n",
    "for P0IN_PSI in P0IN_PSI_LIST[:]:\n",
    "    vtu = pv.read(f\"./back/2D/{P0IN_PSI}/flow.vtm\")\n",
    "    yp_max = np.max(vtu[0]['Boundary']['UPPER_WALL']['Y_Plus'])\n",
    "    print(f\"p0in: {P0IN_PSI}, yplus_max: {yp_max}\")"
   ]
  }
 ],
 "metadata": {
  "kernelspec": {
   "display_name": "Python 3",
   "language": "python",
   "name": "python3"
  },
  "language_info": {
   "codemirror_mode": {
    "name": "ipython",
    "version": 3
   },
   "file_extension": ".py",
   "mimetype": "text/x-python",
   "name": "python",
   "nbconvert_exporter": "python",
   "pygments_lexer": "ipython3",
   "version": "3.10.12"
  }
 },
 "nbformat": 4,
 "nbformat_minor": 2
}
